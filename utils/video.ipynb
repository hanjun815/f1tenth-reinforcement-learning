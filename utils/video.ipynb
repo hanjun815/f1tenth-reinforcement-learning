{
 "cells": [
  {
   "cell_type": "code",
   "execution_count": 1,
   "metadata": {},
   "outputs": [
    {
     "name": "stderr",
     "output_type": "stream",
     "text": [
      "ALSA lib confmisc.c:767:(parse_card) cannot find card '0'\n",
      "ALSA lib conf.c:4732:(_snd_config_evaluate) function snd_func_card_driver returned error: No such file or directory\n",
      "ALSA lib confmisc.c:392:(snd_func_concat) error evaluating strings\n",
      "ALSA lib conf.c:4732:(_snd_config_evaluate) function snd_func_concat returned error: No such file or directory\n",
      "ALSA lib confmisc.c:1246:(snd_func_refer) error evaluating name\n",
      "ALSA lib conf.c:4732:(_snd_config_evaluate) function snd_func_refer returned error: No such file or directory\n",
      "ALSA lib conf.c:5220:(snd_config_expand) Evaluate error: No such file or directory\n",
      "ALSA lib pcm.c:2642:(snd_pcm_open_noupdate) Unknown PCM default\n",
      "ALSA lib confmisc.c:767:(parse_card) cannot find card '0'\n",
      "ALSA lib conf.c:4732:(_snd_config_evaluate) function snd_func_card_driver returned error: No such file or directory\n",
      "ALSA lib confmisc.c:392:(snd_func_concat) error evaluating strings\n",
      "ALSA lib conf.c:4732:(_snd_config_evaluate) function snd_func_concat returned error: No such file or directory\n",
      "ALSA lib confmisc.c:1246:(snd_func_refer) error evaluating name\n",
      "ALSA lib conf.c:4732:(_snd_config_evaluate) function snd_func_refer returned error: No such file or directory\n",
      "ALSA lib conf.c:5220:(snd_config_expand) Evaluate error: No such file or directory\n",
      "ALSA lib pcm.c:2642:(snd_pcm_open_noupdate) Unknown PCM default\n"
     ]
    },
    {
     "data": {
      "text/plain": [
       "'\\n    def create_video(frames, fps=120, output_name=\\'output\\'):\\n        _output_name = output_name + \\'_.mp4\\'\\n        out = cv2.VideoWriter(_output_name, cv2.VideoWriter_fourcc(*\\'mp4v\\'), fps, (frames[0].shape[1], frames[0].shape[0]))\\n        for i in range(len(frames)):\\n            out.write(frames[i])\\n        out.release()\\n        os.system(f\\'ffmpeg -i {_output_name} -vcodec libx264 {output_name + \".mp4\"} -hide_banner -loglevel error\\')      # convert to h264\\n        os.system(f\\'rm -rf {_output_name}\\')\\n\\n    def video_clip(video_path, start_time, end_time):\\n        ffmpeg_extract_subclip(f\"{video_path}.mp4\", start_time, end_time, targetname=f\"{video_path}_clip.mp4\")\\n\\n    def video_to_gif(video_path, name=\\'output\\', speed=1):\\n        clip = VideoFileClip(f\\'{video_path}.mp4\\')\\n        clip.speedx(speed).write_gif(f\\'{name}.gif\\')\\n    \\n    def horizontally_merge_video(video_1, video_2, output_name=\\'output\\'):\\n        os.system(f\\'ffmpeg -i {video_1}.mp4 -i {video_2}.mp4  -filter_complex hstack {output_name}.mp4\\')\\n'"
      ]
     },
     "execution_count": 1,
     "metadata": {},
     "output_type": "execute_result"
    }
   ],
   "source": [
    "from video import *\n",
    "'''\n",
    "    def create_video(frames, fps=120, output_name='output'):\n",
    "        _output_name = output_name + '_.mp4'\n",
    "        out = cv2.VideoWriter(_output_name, cv2.VideoWriter_fourcc(*'mp4v'), fps, (frames[0].shape[1], frames[0].shape[0]))\n",
    "        for i in range(len(frames)):\n",
    "            out.write(frames[i])\n",
    "        out.release()\n",
    "        os.system(f'ffmpeg -i {_output_name} -vcodec libx264 {output_name + \".mp4\"} -hide_banner -loglevel error')      # convert to h264\n",
    "        os.system(f'rm -rf {_output_name}')\n",
    "\n",
    "    def video_clip(video_path, start_time, end_time):\n",
    "        ffmpeg_extract_subclip(f\"{video_path}.mp4\", start_time, end_time, targetname=f\"{video_path}_clip.mp4\")\n",
    "\n",
    "    def video_to_gif(video_path, name='output', speed=1):\n",
    "        clip = VideoFileClip(f'{video_path}.mp4')\n",
    "        clip.speedx(speed).write_gif(f'{name}.gif')\n",
    "    \n",
    "    def horizontally_merge_video(video_1, video_2, output_name='output'):\n",
    "        os.system(f'ffmpeg -i {video_1}.mp4 -i {video_2}.mp4  -filter_complex hstack {output_name}.mp4')\n",
    "'''"
   ]
  },
  {
   "cell_type": "code",
   "execution_count": 2,
   "metadata": {},
   "outputs": [
    {
     "name": "stderr",
     "output_type": "stream",
     "text": [
      "Error: unable to open display localhost:10.0\n",
      "ffmpeg version n4.3.1 Copyright (c) 2000-2020 the FFmpeg developers\n",
      "  built with gcc 7 (Ubuntu 7.5.0-3ubuntu1~18.04)\n",
      "  configuration: --prefix= --prefix=/usr --disable-debug --disable-doc --disable-static --enable-cuda --enable-cuda-sdk --enable-cuvid --enable-libdrm --enable-ffplay --enable-gnutls --enable-gpl --enable-libass --enable-libfdk-aac --enable-libfontconfig --enable-libfreetype --enable-libmp3lame --enable-libnpp --enable-libopencore_amrnb --enable-libopencore_amrwb --enable-libopus --enable-libpulse --enable-sdl2 --enable-libspeex --enable-libtheora --enable-libtwolame --enable-libv4l2 --enable-libvorbis --enable-libvpx --enable-libx264 --enable-libx265 --enable-libxcb --enable-libxvid --enable-nonfree --enable-nvenc --enable-omx --enable-openal --enable-opencl --enable-runtime-cpudetect --enable-shared --enable-vaapi --enable-vdpau --enable-version3 --enable-xlib\n",
      "  libavutil      56. 51.100 / 56. 51.100\n",
      "  libavcodec     58. 91.100 / 58. 91.100\n",
      "  libavformat    58. 45.100 / 58. 45.100\n",
      "  libavdevice    58. 10.100 / 58. 10.100\n",
      "  libavfilter     7. 85.100 /  7. 85.100\n",
      "  libswscale      5.  7.100 /  5.  7.100\n",
      "  libswresample   3.  7.100 /  3.  7.100\n",
      "  libpostproc    55.  7.100 / 55.  7.100\n",
      "Input #0, mov,mp4,m4a,3gp,3g2,mj2, from '../results/ppo/1/sim2real/video/normal.mp4':\n",
      "  Metadata:\n",
      "    major_brand     : isom\n",
      "    minor_version   : 512\n",
      "    compatible_brands: isomiso2avc1mp41\n",
      "    encoder         : Lavf58.45.100\n",
      "  Duration: 00:00:30.38, start: 0.000000, bitrate: 755 kb/s\n",
      "    Stream #0:0(und): Video: h264 (High) (avc1 / 0x31637661), yuv420p, 800x800 [SAR 1:1 DAR 1:1], 744 kb/s, 120 fps, 120 tbr, 15360 tbn, 240 tbc (default)\n",
      "    Metadata:\n",
      "      handler_name    : VideoHandler\n",
      "Input #1, mov,mp4,m4a,3gp,3g2,mj2, from '../results/ppo/1/sim2real/video/delay.mp4':\n",
      "  Metadata:\n",
      "    major_brand     : isom\n",
      "    minor_version   : 512\n",
      "    compatible_brands: isomiso2avc1mp41\n",
      "    encoder         : Lavf58.45.100\n",
      "  Duration: 00:00:30.50, start: 0.000000, bitrate: 759 kb/s\n",
      "    Stream #1:0(und): Video: h264 (High) (avc1 / 0x31637661), yuv420p, 800x800 [SAR 1:1 DAR 1:1], 748 kb/s, 120 fps, 120 tbr, 15360 tbn, 240 tbc (default)\n",
      "    Metadata:\n",
      "      handler_name    : VideoHandler\n",
      "Stream mapping:\n",
      "  Stream #0:0 (h264) -> hstack:input0\n",
      "  Stream #1:0 (h264) -> hstack:input1\n",
      "  hstack -> Stream #0:0 (libx264)\n",
      "Press [q] to stop, [?] for help\n",
      "[libx264 @ 0x5637b7ac1cc0] using SAR=1/1\n",
      "[libx264 @ 0x5637b7ac1cc0] using cpu capabilities: MMX2 SSE2Fast SSSE3 SSE4.2 AVX FMA3 BMI2 AVX2\n",
      "[libx264 @ 0x5637b7ac1cc0] profile High, level 5.1\n",
      "[libx264 @ 0x5637b7ac1cc0] 264 - core 152 r2854 e9a5903 - H.264/MPEG-4 AVC codec - Copyleft 2003-2017 - http://www.videolan.org/x264.html - options: cabac=1 ref=3 deblock=1:0:0 analyse=0x3:0x113 me=hex subme=7 psy=1 psy_rd=1.00:0.00 mixed_ref=1 me_range=16 chroma_me=1 trellis=1 8x8dct=1 cqm=0 deadzone=21,11 fast_pskip=1 chroma_qp_offset=-2 threads=25 lookahead_threads=4 sliced_threads=0 nr=0 decimate=1 interlaced=0 bluray_compat=0 constrained_intra=0 bframes=3 b_pyramid=2 b_adapt=1 b_bias=0 direct=1 weightb=1 open_gop=0 weightp=2 keyint=250 keyint_min=25 scenecut=40 intra_refresh=0 rc_lookahead=40 rc=crf mbtree=1 crf=23.0 qcomp=0.60 qpmin=0 qpmax=69 qpstep=4 ip_ratio=1.40 aq=1:1.00\n",
      "Output #0, mp4, to 'output.mp4':\n",
      "  Metadata:\n",
      "    major_brand     : isom\n",
      "    minor_version   : 512\n",
      "    compatible_brands: isomiso2avc1mp41\n",
      "    encoder         : Lavf58.45.100\n",
      "    Stream #0:0: Video: h264 (libx264) (avc1 / 0x31637661), yuv420p, 1600x800 [SAR 1:1 DAR 2:1], q=-1--1, 120 fps, 15360 tbn, 120 tbc (default)\n",
      "    Metadata:\n",
      "      encoder         : Lavc58.91.100 libx264\n",
      "    Side data:\n",
      "      cpb: bitrate max/min/avg: 0/0/0 buffer size: 0 vbv_delay: N/A\n",
      "frame= 3660 fps=160 q=-1.0 Lsize=    5654kB time=00:00:30.47 bitrate=1519.9kbits/s speed=1.33x    \n",
      "video:5613kB audio:0kB subtitle:0kB other streams:0kB global headers:0kB muxing overhead: 0.734623%\n",
      "[libx264 @ 0x5637b7ac1cc0] frame I:15    Avg QP:22.10  size: 32761\n",
      "[libx264 @ 0x5637b7ac1cc0] frame P:1420  Avg QP:26.18  size:  2201\n",
      "[libx264 @ 0x5637b7ac1cc0] frame B:2225  Avg QP:37.26  size:   957\n",
      "[libx264 @ 0x5637b7ac1cc0] consecutive B-frames:  8.9% 24.4% 17.5% 49.2%\n",
      "[libx264 @ 0x5637b7ac1cc0] mb I  I16..4:  7.3% 76.6% 16.2%\n",
      "[libx264 @ 0x5637b7ac1cc0] mb P  I16..4:  0.3%  1.0%  0.1%  P16..4:  6.2%  1.1%  0.6%  0.0%  0.0%    skip:90.7%\n",
      "[libx264 @ 0x5637b7ac1cc0] mb B  I16..4:  0.0%  0.1%  0.0%  B16..8:  8.1%  0.8%  0.2%  direct: 0.1%  skip:90.7%  L0:49.9% L1:48.8% BI: 1.3%\n",
      "[libx264 @ 0x5637b7ac1cc0] 8x8 transform intra:71.1% inter:18.4%\n",
      "[libx264 @ 0x5637b7ac1cc0] coded y,uvDC,uvAC intra: 12.3% 1.2% 0.9% inter: 0.5% 0.0% 0.0%\n",
      "[libx264 @ 0x5637b7ac1cc0] i16 v,h,dc,p: 59% 33%  7%  0%\n",
      "[libx264 @ 0x5637b7ac1cc0] i8 v,h,dc,ddl,ddr,vr,hd,vl,hu: 39%  8% 52%  0%  0%  0%  0%  0%  0%\n",
      "[libx264 @ 0x5637b7ac1cc0] i4 v,h,dc,ddl,ddr,vr,hd,vl,hu: 31% 18% 22%  5%  4%  5%  5%  7%  4%\n",
      "[libx264 @ 0x5637b7ac1cc0] i8c dc,h,v,p: 97%  1%  1%  0%\n",
      "[libx264 @ 0x5637b7ac1cc0] Weighted P-Frames: Y:0.0% UV:0.0%\n",
      "[libx264 @ 0x5637b7ac1cc0] ref P L0: 71.4%  1.4% 18.9%  8.3%\n",
      "[libx264 @ 0x5637b7ac1cc0] ref B L0: 77.9% 18.5%  3.7%\n",
      "[libx264 @ 0x5637b7ac1cc0] ref B L1: 95.8%  4.2%\n",
      "[libx264 @ 0x5637b7ac1cc0] kb/s:1507.41\n"
     ]
    }
   ],
   "source": [
    "horizontally_merge_video('../results/ppo/1/sim2real/video/normal', '../results/ppo/1/sim2real/video/delay')"
   ]
  },
  {
   "cell_type": "code",
   "execution_count": null,
   "metadata": {},
   "outputs": [],
   "source": [
    "video_clip('../output', start_time=1.0, end_time=5.0)"
   ]
  }
 ],
 "metadata": {
  "kernelspec": {
   "display_name": "F1tenth",
   "language": "python",
   "name": "python3"
  },
  "language_info": {
   "codemirror_mode": {
    "name": "ipython",
    "version": 3
   },
   "file_extension": ".py",
   "mimetype": "text/x-python",
   "name": "python",
   "nbconvert_exporter": "python",
   "pygments_lexer": "ipython3",
   "version": "3.9.5"
  }
 },
 "nbformat": 4,
 "nbformat_minor": 2
}
